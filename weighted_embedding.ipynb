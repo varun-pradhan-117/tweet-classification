{
  "nbformat": 4,
  "nbformat_minor": 0,
  "metadata": {
    "language_info": {
      "codemirror_mode": {
        "name": "ipython",
        "version": 3
      },
      "file_extension": ".py",
      "mimetype": "text/x-python",
      "name": "python",
      "nbconvert_exporter": "python",
      "pygments_lexer": "ipython3",
      "version": "3.8.5"
    },
    "orig_nbformat": 2,
    "kernelspec": {
      "name": "python3",
      "display_name": "Python 3.8.5 64-bit ('tf-gpu': conda)"
    },
    "interpreter": {
      "hash": "14523d1fea9f4e0c7f58fb726c15fbeefb0f5da4b7c94149544d1b99831e5a5d"
    },
    "colab": {
      "name": "weighted_embedding.ipynb",
      "provenance": []
    },
    "accelerator": "GPU"
  },
  "cells": [
    {
      "cell_type": "markdown",
      "metadata": {
        "id": "KycZtBekaicH"
      },
      "source": [
        "### Load Dependencies"
      ]
    },
    {
      "cell_type": "code",
      "metadata": {
        "id": "MCqPiJiG0qUz"
      },
      "source": [
        "import warnings\n",
        "warnings.filterwarnings('ignore')"
      ],
      "execution_count": 311,
      "outputs": []
    },
    {
      "cell_type": "code",
      "metadata": {
        "id": "b_ux4Stj0qU3"
      },
      "source": [
        "import numpy as np\n",
        "import pandas as pd \n",
        "import tensorflow as tf\n",
        "from bs4 import BeautifulSoup\n",
        "import re\n",
        "import matplotlib.pyplot as plt\n",
        "import nltk"
      ],
      "execution_count": 312,
      "outputs": []
    },
    {
      "cell_type": "code",
      "metadata": {
        "id": "gwpuMlag0qU3"
      },
      "source": [
        "nltk.download('stopwords')\n",
        "nltk.download('punkt')\n",
        "nltk.download('averaged_perceptron_tagger')\n",
        "nltk.download('wordnet')"
      ],
      "execution_count": null,
      "outputs": []
    },
    {
      "cell_type": "code",
      "metadata": {
        "id": "9Uem2Ee70qU5"
      },
      "source": [
        "from gensim.corpora import Dictionary\n",
        "from gensim.models.tfidfmodel import TfidfModel\n",
        "from gensim.matutils import sparse2full"
      ],
      "execution_count": 314,
      "outputs": []
    },
    {
      "cell_type": "code",
      "metadata": {
        "id": "S15O173B0qU5"
      },
      "source": [
        "from nltk.corpus import stopwords,wordnet\n",
        "from nltk.tokenize import word_tokenize\n",
        "from nltk.stem.porter import PorterStemmer\n",
        "from nltk.stem import WordNetLemmatizer"
      ],
      "execution_count": 315,
      "outputs": []
    },
    {
      "cell_type": "markdown",
      "metadata": {
        "id": "OxG4VB1u0qU5"
      },
      "source": [
        "### Load Dataset"
      ]
    },
    {
      "cell_type": "code",
      "metadata": {
        "id": "Q_Aguqjl0qU5"
      },
      "source": [
        "data=pd.read_csv('https://raw.githubusercontent.com/varun-pradhan-117/tweet-classification/main/datasets/tweets.csv')"
      ],
      "execution_count": 316,
      "outputs": []
    },
    {
      "cell_type": "code",
      "metadata": {
        "id": "t9sfMUCM0qU6"
      },
      "source": [
        "#get stopword list\n",
        "sw_list=stopwords.words('english')\n",
        "\n",
        "#Since it might affect final outcome, a few words are removed from stopwords list\n",
        "sw_list.remove('not')\n",
        "sw_list.remove('no')\n",
        "sw_list.remove('against')"
      ],
      "execution_count": 317,
      "outputs": []
    },
    {
      "cell_type": "code",
      "metadata": {
        "id": "4JT7o87n0qU6"
      },
      "source": [
        "#Initialize lemmatizer\n",
        "lemmatizer=WordNetLemmatizer()"
      ],
      "execution_count": 318,
      "outputs": []
    },
    {
      "cell_type": "markdown",
      "metadata": {
        "id": "UzAduLFiXqNa"
      },
      "source": [
        "### Clean dataset"
      ]
    },
    {
      "cell_type": "code",
      "metadata": {
        "id": "npScDU3T0qU6"
      },
      "source": [
        "def nltk_wn_tag(nltk_tag):\n",
        "  if nltk_tag.startswith('J'):\n",
        "    return wordnet.ADJ\n",
        "  elif nltk_tag.startswith('V'):\n",
        "    return wordnet.VERB\n",
        "  elif nltk_tag.startswith('N'):\n",
        "    return wordnet.NOUN\n",
        "  elif nltk_tag.startswith('R'):\n",
        "    return wordnet.ADV\n",
        "  else:                    \n",
        "    return None"
      ],
      "execution_count": 319,
      "outputs": []
    },
    {
      "cell_type": "code",
      "metadata": {
        "id": "tpi8AyeB0qU7"
      },
      "source": [
        "def lemmatize_sentence(sentence):\n",
        "    tagged = nltk.pos_tag(nltk.word_tokenize(sentence))\n",
        "    wordnet_tagged = map(lambda x: (x[0], nltk_wn_tag(x[1])), tagged)\n",
        "    lemmatized_words=[]\n",
        "    for word, tag in wordnet_tagged:\n",
        "        if word not in sw_list:\n",
        "            if tag is None:                        \n",
        "                lemmatized_words.append(word)\n",
        "            else:\n",
        "                lemmatized_words.append(lemmatizer.lemmatize(word, tag))\n",
        "    return \" \".join(lemmatized_words)\n",
        "    "
      ],
      "execution_count": 320,
      "outputs": []
    },
    {
      "cell_type": "code",
      "metadata": {
        "id": "Op9HCeP80qU7"
      },
      "source": [
        "def clean_tweets(tweet):\n",
        "    #remove RT(retweet tag)\n",
        "    tweet=re.sub(r\"RT @\",\"@\",tweet)\n",
        "    #remove pings\n",
        "    tweet = re.sub(r\"@[A-Za-z0-9]+\", ' ', tweet)\n",
        "    #remove URLs\n",
        "    tweet = re.sub(r\"https?://[A-Za-z0-9./]+\", ' ', tweet)\n",
        "    #remove special characters\n",
        "    tweet = re.sub(r\"[^a-zA-Z]\", ' ', tweet)\n",
        "    #convert to lower case\n",
        "    tweet=tweet.lower()\n",
        "    #remove extra white spaces\n",
        "    tweet = re.sub(r\" +\",' ', tweet)\n",
        "    #lemmatization of tweet and removing stopwords\n",
        "    lemmatized_tweet=lemmatize_sentence(tweet)\n",
        "    #remove extra white spaces\n",
        "    tweet = re.sub(r\" +\", ' ', tweet)\n",
        "    return lemmatized_tweet.strip()"
      ],
      "execution_count": 321,
      "outputs": []
    },
    {
      "cell_type": "code",
      "metadata": {
        "id": "BDK-vJbd0qU7"
      },
      "source": [
        "data['tweets']=[clean_tweets(tweet) for tweet in data['tweets']]"
      ],
      "execution_count": 322,
      "outputs": []
    },
    {
      "cell_type": "markdown",
      "metadata": {
        "id": "1iSTWGOmXxwO"
      },
      "source": [
        "### Train Test Split"
      ]
    },
    {
      "cell_type": "code",
      "metadata": {
        "id": "5b5pK00a0qU8"
      },
      "source": [
        "from sklearn.model_selection import train_test_split\n",
        "X=data['tweets']\n",
        "y=data['labels']\n",
        "X_train,X_test,y_train,y_test=train_test_split(X,y,test_size=0.2,random_state=7)"
      ],
      "execution_count": 324,
      "outputs": []
    },
    {
      "cell_type": "markdown",
      "metadata": {
        "id": "wrNgmAagM166"
      },
      "source": [
        "### sklearn/nltk processing"
      ]
    },
    {
      "cell_type": "code",
      "metadata": {
        "id": "jj08nZwbM3TJ"
      },
      "source": [
        "from sklearn.feature_extraction.text import TfidfVectorizer\n",
        "tfidf_vect=TfidfVectorizer()\n",
        "tfidf_vect.fit(X_train)\n",
        "tfidf_dictionary = dict(zip(tfidf_vect.get_feature_names(), list(tfidf_vect.idf_)))"
      ],
      "execution_count": 325,
      "outputs": []
    },
    {
      "cell_type": "code",
      "metadata": {
        "id": "o63hn_NKOw1A"
      },
      "source": [
        "X_train_tfidf=tfidf_vect.transform(X_train).toarray()"
      ],
      "execution_count": 326,
      "outputs": []
    },
    {
      "cell_type": "code",
      "metadata": {
        "id": "lq6ESudePXnh"
      },
      "source": [
        "list_of_tweets=[word_tokenize(tweet) for tweet in X_train]"
      ],
      "execution_count": 327,
      "outputs": []
    },
    {
      "cell_type": "code",
      "metadata": {
        "id": "JEJujkn1PeWp"
      },
      "source": [
        "from gensim.models import Word2Vec\n",
        "w2v_model=Word2Vec(list_of_tweets,size=500)"
      ],
      "execution_count": 329,
      "outputs": []
    },
    {
      "cell_type": "code",
      "metadata": {
        "id": "GF7nlMbWQoGe",
        "colab": {
          "base_uri": "https://localhost:8080/"
        },
        "outputId": "94b00089-1556-48ac-b26c-1237fc729d68"
      },
      "source": [
        "w2v_model.vector_size"
      ],
      "execution_count": 330,
      "outputs": [
        {
          "output_type": "execute_result",
          "data": {
            "text/plain": [
              "500"
            ]
          },
          "metadata": {
            "tags": []
          },
          "execution_count": 330
        }
      ]
    },
    {
      "cell_type": "code",
      "metadata": {
        "id": "TG-ByYP-SPWq"
      },
      "source": [
        "w2v_words = list(w2v_model.wv.vocab)"
      ],
      "execution_count": 331,
      "outputs": []
    },
    {
      "cell_type": "code",
      "metadata": {
        "id": "fmcOzbeRRF7A"
      },
      "source": [
        "# TF-IDF weighted Word2Vec\n",
        "tfidf_feat = tfidf_vect.get_feature_names() \n",
        "\n",
        "tfidf_tweet_vectors = [];\n",
        "row=0;\n",
        "for tweet in list_of_tweets: \n",
        "    sent_vec = np.zeros(500) \n",
        "    weight_sum =0;\n",
        "    for word in tweet: \n",
        "        if word in w2v_words and word in tfidf_feat:\n",
        "            vec = w2v_model.wv[word]\n",
        "            tf_idf = tfidf_dictionary[word]*(tweet.count(word)/len(tweet))\n",
        "            sent_vec += (vec * tf_idf)\n",
        "            weight_sum += tf_idf\n",
        "    if weight_sum != 0:\n",
        "        sent_vec /= weight_sum\n",
        "    tfidf_tweet_vectors.append(sent_vec)\n",
        "    row += 1"
      ],
      "execution_count": 332,
      "outputs": []
    },
    {
      "cell_type": "code",
      "metadata": {
        "id": "VGmr2cpQS3dN"
      },
      "source": [
        "tfidf_test_vectors = [];\n",
        "for tweet in [word_tokenize(tweet) for tweet in X_test]: \n",
        "    sent_vec = np.zeros(500) \n",
        "    weight_sum =0;\n",
        "    for word in tweet: \n",
        "        if word in w2v_words and word in tfidf_feat:\n",
        "            vec = w2v_model.wv[word]\n",
        "            tf_idf = tfidf_dictionary[word]*(tweet.count(word)/len(tweet))\n",
        "            sent_vec += (vec * tf_idf)\n",
        "            weight_sum += tf_idf\n",
        "    if weight_sum != 0:\n",
        "        sent_vec /= weight_sum\n",
        "    tfidf_test_vectors.append(sent_vec)\n",
        "    row += 1"
      ],
      "execution_count": 333,
      "outputs": []
    },
    {
      "cell_type": "code",
      "metadata": {
        "id": "dvV1McBUTi1E"
      },
      "source": [
        "train_vectors=pd.DataFrame(tfidf_tweet_vectors)\n",
        "test_vectors=pd.DataFrame(tfidf_test_vectors)"
      ],
      "execution_count": 334,
      "outputs": []
    },
    {
      "cell_type": "code",
      "metadata": {
        "id": "mvsH0ilKTj2G"
      },
      "source": [
        "from tensorflow.keras.models import Sequential\n",
        "from tensorflow.keras.layers import Dense, Activation, Dropout"
      ],
      "execution_count": 335,
      "outputs": []
    },
    {
      "cell_type": "code",
      "metadata": {
        "id": "eSjL9n7iT_-x"
      },
      "source": [
        "from tensorflow.keras.utils import to_categorical\n",
        "y_train=to_categorical(y_train,3)"
      ],
      "execution_count": 336,
      "outputs": []
    },
    {
      "cell_type": "code",
      "metadata": {
        "id": "SvFGzjwJUCa3"
      },
      "source": [
        "model=Sequential()\n",
        "model.add(Dense(activation='relu',units=500))\n",
        "model.add(Dropout(0.2))\n",
        "model.add(Dense(activation='relu',units=32))\n",
        "model.add(Dense(activation='softmax',units=3))\n",
        "model.compile(optimizer='rmsprop',loss='categorical_crossentropy',metrics=['accuracy'])"
      ],
      "execution_count": 337,
      "outputs": []
    },
    {
      "cell_type": "code",
      "metadata": {
        "id": "j74y0jPWUDuB",
        "colab": {
          "base_uri": "https://localhost:8080/"
        },
        "outputId": "2357e254-2da3-43b3-af38-ff719b5f3b5d"
      },
      "source": [
        "history=model.fit(x=train_vectors,y=y_train,epochs=20)"
      ],
      "execution_count": 338,
      "outputs": [
        {
          "output_type": "stream",
          "text": [
            "Epoch 1/20\n",
            "35/35 [==============================] - 1s 3ms/step - loss: 0.8193 - accuracy: 0.6838\n",
            "Epoch 2/20\n",
            "35/35 [==============================] - 0s 3ms/step - loss: 0.7834 - accuracy: 0.6911\n",
            "Epoch 3/20\n",
            "35/35 [==============================] - 0s 2ms/step - loss: 0.7781 - accuracy: 0.6911\n",
            "Epoch 4/20\n",
            "35/35 [==============================] - 0s 2ms/step - loss: 0.7775 - accuracy: 0.6911\n",
            "Epoch 5/20\n",
            "35/35 [==============================] - 0s 3ms/step - loss: 0.7782 - accuracy: 0.6911\n",
            "Epoch 6/20\n",
            "35/35 [==============================] - 0s 3ms/step - loss: 0.7771 - accuracy: 0.6911\n",
            "Epoch 7/20\n",
            "35/35 [==============================] - 0s 3ms/step - loss: 0.7713 - accuracy: 0.6911\n",
            "Epoch 8/20\n",
            "35/35 [==============================] - 0s 3ms/step - loss: 0.7758 - accuracy: 0.6911\n",
            "Epoch 9/20\n",
            "35/35 [==============================] - 0s 3ms/step - loss: 0.7714 - accuracy: 0.6911\n",
            "Epoch 10/20\n",
            "35/35 [==============================] - 0s 3ms/step - loss: 0.7746 - accuracy: 0.6911\n",
            "Epoch 11/20\n",
            "35/35 [==============================] - 0s 3ms/step - loss: 0.7742 - accuracy: 0.6911\n",
            "Epoch 12/20\n",
            "35/35 [==============================] - 0s 3ms/step - loss: 0.7730 - accuracy: 0.6911\n",
            "Epoch 13/20\n",
            "35/35 [==============================] - 0s 3ms/step - loss: 0.7667 - accuracy: 0.6911\n",
            "Epoch 14/20\n",
            "35/35 [==============================] - 0s 3ms/step - loss: 0.7696 - accuracy: 0.6911\n",
            "Epoch 15/20\n",
            "35/35 [==============================] - 0s 3ms/step - loss: 0.7646 - accuracy: 0.6911\n",
            "Epoch 16/20\n",
            "35/35 [==============================] - 0s 3ms/step - loss: 0.7664 - accuracy: 0.6911\n",
            "Epoch 17/20\n",
            "35/35 [==============================] - 0s 2ms/step - loss: 0.7732 - accuracy: 0.6911\n",
            "Epoch 18/20\n",
            "35/35 [==============================] - 0s 3ms/step - loss: 0.7645 - accuracy: 0.6911\n",
            "Epoch 19/20\n",
            "35/35 [==============================] - 0s 3ms/step - loss: 0.7642 - accuracy: 0.6911\n",
            "Epoch 20/20\n",
            "35/35 [==============================] - 0s 3ms/step - loss: 0.7645 - accuracy: 0.6911\n"
          ],
          "name": "stdout"
        }
      ]
    },
    {
      "cell_type": "code",
      "metadata": {
        "id": "L_yWgjEOUNIz"
      },
      "source": [
        "y_test=to_categorical(y_test,3)\n"
      ],
      "execution_count": 339,
      "outputs": []
    },
    {
      "cell_type": "code",
      "metadata": {
        "id": "SIr_kviUUO6J"
      },
      "source": [
        "y_predictions=(model.predict(test_vectors) > 0.5).astype(\"int32\")"
      ],
      "execution_count": 340,
      "outputs": []
    },
    {
      "cell_type": "code",
      "metadata": {
        "id": "Z-fKaQJ4UQGn"
      },
      "source": [
        "from sklearn.metrics import classification_report,confusion_matrix,accuracy_score"
      ],
      "execution_count": 341,
      "outputs": []
    },
    {
      "cell_type": "code",
      "metadata": {
        "id": "B9qIw8_QWDvu",
        "colab": {
          "base_uri": "https://localhost:8080/"
        },
        "outputId": "ec2321b1-aeca-471e-b68a-e82c54290212"
      },
      "source": [
        "print(classification_report(y_test,y_predictions))"
      ],
      "execution_count": 342,
      "outputs": [
        {
          "output_type": "stream",
          "text": [
            "              precision    recall  f1-score   support\n",
            "\n",
            "           0       0.65      1.00      0.79       177\n",
            "           1       0.00      0.00      0.00        80\n",
            "           2       0.00      0.00      0.00        16\n",
            "\n",
            "   micro avg       0.65      0.65      0.65       273\n",
            "   macro avg       0.22      0.33      0.26       273\n",
            "weighted avg       0.42      0.65      0.51       273\n",
            " samples avg       0.65      0.65      0.65       273\n",
            "\n"
          ],
          "name": "stdout"
        }
      ]
    },
    {
      "cell_type": "code",
      "metadata": {
        "id": "hTJubNt_WE6O",
        "colab": {
          "base_uri": "https://localhost:8080/"
        },
        "outputId": "3efe3c1f-0363-48b9-c04f-e28185f85595"
      },
      "source": [
        "print(accuracy_score(y_test,y_predictions))"
      ],
      "execution_count": 343,
      "outputs": [
        {
          "output_type": "stream",
          "text": [
            "0.6483516483516484\n"
          ],
          "name": "stdout"
        }
      ]
    },
    {
      "cell_type": "code",
      "metadata": {
        "id": "UBhWXQmpXimy",
        "colab": {
          "base_uri": "https://localhost:8080/"
        },
        "outputId": "06ff3c6a-909a-483c-c1ef-44e282f55201"
      },
      "source": [
        "confusion_matrix(y_test.argmax(axis=1),y_predictions.argmax(axis=1))"
      ],
      "execution_count": 344,
      "outputs": [
        {
          "output_type": "execute_result",
          "data": {
            "text/plain": [
              "array([[177,   0,   0],\n",
              "       [ 80,   0,   0],\n",
              "       [ 16,   0,   0]])"
            ]
          },
          "metadata": {
            "tags": []
          },
          "execution_count": 344
        }
      ]
    },
    {
      "cell_type": "code",
      "metadata": {
        "id": "QUU0hTgLXj7m"
      },
      "source": [
        "losses=pd.DataFrame(history.history)"
      ],
      "execution_count": 345,
      "outputs": []
    },
    {
      "cell_type": "code",
      "metadata": {
        "id": "M7VGrYAjXlUC",
        "colab": {
          "base_uri": "https://localhost:8080/",
          "height": 282
        },
        "outputId": "85c82e8e-e283-402d-bf73-944bf79e6f2b"
      },
      "source": [
        "losses.plot()"
      ],
      "execution_count": 346,
      "outputs": [
        {
          "output_type": "execute_result",
          "data": {
            "text/plain": [
              "<matplotlib.axes._subplots.AxesSubplot at 0x7f257ff4fe10>"
            ]
          },
          "metadata": {
            "tags": []
          },
          "execution_count": 346
        },
        {
          "output_type": "display_data",
          "data": {
            "image/png": "[encoded data removed]",
            "text/plain": [
              "<Figure size 432x288 with 1 Axes>"
            ]
          },
          "metadata": {
            "tags": [],
            "needs_background": "light"
          }
        }
      ]
    }
  ]
}