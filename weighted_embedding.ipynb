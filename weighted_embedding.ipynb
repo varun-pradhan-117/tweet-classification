{
  "nbformat": 4,
  "nbformat_minor": 0,
  "metadata": {
    "language_info": {
      "codemirror_mode": {
        "name": "ipython",
        "version": 3
      },
      "file_extension": ".py",
      "mimetype": "text/x-python",
      "name": "python",
      "nbconvert_exporter": "python",
      "pygments_lexer": "ipython3",
      "version": "3.8.5"
    },
    "orig_nbformat": 2,
    "kernelspec": {
      "name": "python3",
      "display_name": "Python 3.8.5 64-bit ('tf-gpu': conda)"
    },
    "interpreter": {
      "hash": "14523d1fea9f4e0c7f58fb726c15fbeefb0f5da4b7c94149544d1b99831e5a5d"
    },
    "colab": {
      "name": "Copy of weighted_embedding.ipynb",
      "provenance": [],
      "collapsed_sections": []
    },
    "accelerator": "TPU"
  },
  "cells": [
    {
      "cell_type": "markdown",
      "metadata": {
        "id": "KycZtBekaicH"
      },
      "source": [
        "### Load Dependencies"
      ]
    },
    {
      "cell_type": "code",
      "metadata": {
        "id": "MCqPiJiG0qUz"
      },
      "source": [
        "import warnings\n",
        "warnings.filterwarnings('ignore')"
      ],
      "execution_count": 1,
      "outputs": []
    },
    {
      "cell_type": "code",
      "metadata": {
        "id": "b_ux4Stj0qU3"
      },
      "source": [
        "import numpy as np\n",
        "import pandas as pd \n",
        "import tensorflow as tf\n",
        "from bs4 import BeautifulSoup\n",
        "import re\n",
        "import matplotlib.pyplot as plt\n",
        "import nltk"
      ],
      "execution_count": 2,
      "outputs": []
    },
    {
      "cell_type": "code",
      "metadata": {
        "colab": {
          "base_uri": "https://localhost:8080/"
        },
        "id": "gwpuMlag0qU3",
        "outputId": "1d8e658f-1dfa-4d69-f1cf-d84465cff9ee"
      },
      "source": [
        "nltk.download('stopwords')\n",
        "nltk.download('punkt')\n",
        "nltk.download('averaged_perceptron_tagger')\n",
        "nltk.download('wordnet')"
      ],
      "execution_count": 3,
      "outputs": [
        {
          "output_type": "stream",
          "text": [
            "[nltk_data] Downloading package stopwords to /root/nltk_data...\n",
            "[nltk_data]   Unzipping corpora/stopwords.zip.\n",
            "[nltk_data] Downloading package punkt to /root/nltk_data...\n",
            "[nltk_data]   Unzipping tokenizers/punkt.zip.\n",
            "[nltk_data] Downloading package averaged_perceptron_tagger to\n",
            "[nltk_data]     /root/nltk_data...\n",
            "[nltk_data]   Unzipping taggers/averaged_perceptron_tagger.zip.\n",
            "[nltk_data] Downloading package wordnet to /root/nltk_data...\n",
            "[nltk_data]   Unzipping corpora/wordnet.zip.\n"
          ],
          "name": "stdout"
        },
        {
          "output_type": "execute_result",
          "data": {
            "text/plain": [
              "True"
            ]
          },
          "metadata": {
            "tags": []
          },
          "execution_count": 3
        }
      ]
    },
    {
      "cell_type": "code",
      "metadata": {
        "id": "9Uem2Ee70qU5"
      },
      "source": [
        "from gensim.corpora import Dictionary\n",
        "from gensim.models.tfidfmodel import TfidfModel\n",
        "from gensim.matutils import sparse2full"
      ],
      "execution_count": 4,
      "outputs": []
    },
    {
      "cell_type": "code",
      "metadata": {
        "id": "S15O173B0qU5"
      },
      "source": [
        "from nltk.corpus import stopwords,wordnet\n",
        "from nltk.tokenize import word_tokenize\n",
        "from nltk.stem.porter import PorterStemmer\n",
        "from nltk.stem import WordNetLemmatizer"
      ],
      "execution_count": 5,
      "outputs": []
    },
    {
      "cell_type": "markdown",
      "metadata": {
        "id": "OxG4VB1u0qU5"
      },
      "source": [
        "### Load Dataset"
      ]
    },
    {
      "cell_type": "code",
      "metadata": {
        "id": "Q_Aguqjl0qU5"
      },
      "source": [
        "data=pd.read_csv('https://raw.githubusercontent.com/varun-pradhan-117/tweet-classification/main/datasets/tweets.csv')"
      ],
      "execution_count": 6,
      "outputs": []
    },
    {
      "cell_type": "markdown",
      "metadata": {
        "id": "WuIxleNlmBc9"
      },
      "source": [
        "### Since it might affect final outcome, a few words are removed from stopwords list"
      ]
    },
    {
      "cell_type": "code",
      "metadata": {
        "id": "t9sfMUCM0qU6"
      },
      "source": [
        "#get stopword list\n",
        "sw_list=stopwords.words('english')\n",
        "\n",
        "#Since it might affect final outcome, a few words are removed from stopwords list\n",
        "sw_list.remove('not')\n",
        "sw_list.remove('no')\n",
        "sw_list.remove('against')"
      ],
      "execution_count": 7,
      "outputs": []
    },
    {
      "cell_type": "code",
      "metadata": {
        "id": "4JT7o87n0qU6"
      },
      "source": [
        "#Initialize lemmatizer\n",
        "lemmatizer=WordNetLemmatizer()"
      ],
      "execution_count": 8,
      "outputs": []
    },
    {
      "cell_type": "markdown",
      "metadata": {
        "id": "UzAduLFiXqNa"
      },
      "source": [
        "### Clean dataset"
      ]
    },
    {
      "cell_type": "code",
      "metadata": {
        "id": "npScDU3T0qU6"
      },
      "source": [
        "#Get nltk tag for lemmatizing a given token\n",
        "def nltk_wn_tag(nltk_tag):\n",
        "  if nltk_tag.startswith('J'):\n",
        "    return wordnet.ADJ\n",
        "  elif nltk_tag.startswith('V'):\n",
        "    return wordnet.VERB\n",
        "  elif nltk_tag.startswith('N'):\n",
        "    return wordnet.NOUN\n",
        "  elif nltk_tag.startswith('R'):\n",
        "    return wordnet.ADV\n",
        "  else:                    \n",
        "    return None"
      ],
      "execution_count": 9,
      "outputs": []
    },
    {
      "cell_type": "code",
      "metadata": {
        "id": "tpi8AyeB0qU7"
      },
      "source": [
        "# Function to lemmatize a sentence\n",
        "def lemmatize_sentence(sentence):\n",
        "    tagged = nltk.pos_tag(nltk.word_tokenize(sentence))\n",
        "    wordnet_tagged = map(lambda x: (x[0], nltk_wn_tag(x[1])), tagged)\n",
        "    lemmatized_words=[]\n",
        "    for word, tag in wordnet_tagged:\n",
        "        if word not in sw_list:\n",
        "            if tag is None:                        \n",
        "                lemmatized_words.append(word)\n",
        "            else:\n",
        "                lemmatized_words.append(lemmatizer.lemmatize(word, tag))\n",
        "    return \" \".join(lemmatized_words)\n",
        "    "
      ],
      "execution_count": 10,
      "outputs": []
    },
    {
      "cell_type": "code",
      "metadata": {
        "id": "Op9HCeP80qU7"
      },
      "source": [
        "def clean_tweets(tweet):\n",
        "    #remove RT(retweet tag)\n",
        "    tweet=re.sub(r\"RT @\",\"@\",tweet)\n",
        "    #remove pings\n",
        "    tweet = re.sub(r\"@[A-Za-z0-9]+\", ' ', tweet)\n",
        "    #remove URLs\n",
        "    tweet = re.sub(r\"https?://[A-Za-z0-9./]+\", ' ', tweet)\n",
        "    #remove special characters\n",
        "    tweet = re.sub(r\"[^a-zA-Z]\", ' ', tweet)\n",
        "    #convert to lower case\n",
        "    tweet=tweet.lower()\n",
        "    #remove extra white spaces\n",
        "    tweet = re.sub(r\" +\",' ', tweet)\n",
        "    #lemmatization of tweet and removing stopwords\n",
        "    lemmatized_tweet=lemmatize_sentence(tweet)\n",
        "    #remove extra white spaces\n",
        "    tweet = re.sub(r\" +\", ' ', tweet)\n",
        "    return lemmatized_tweet.strip()"
      ],
      "execution_count": 11,
      "outputs": []
    },
    {
      "cell_type": "code",
      "metadata": {
        "id": "BDK-vJbd0qU7"
      },
      "source": [
        "data['tweets']=[clean_tweets(tweet) for tweet in data['tweets']]"
      ],
      "execution_count": 12,
      "outputs": []
    },
    {
      "cell_type": "markdown",
      "metadata": {
        "id": "1iSTWGOmXxwO"
      },
      "source": [
        "### Train Test Split"
      ]
    },
    {
      "cell_type": "code",
      "metadata": {
        "id": "5b5pK00a0qU8"
      },
      "source": [
        "from sklearn.model_selection import train_test_split\n",
        "X=data['tweets']\n",
        "y=data['labels']\n",
        "X_train,X_test,y_train,y_test=train_test_split(X,y,test_size=0.2,random_state=7)"
      ],
      "execution_count": 13,
      "outputs": []
    },
    {
      "cell_type": "markdown",
      "metadata": {
        "id": "tzTF4SfTOdca"
      },
      "source": [
        "### Getting TF-IDF weighted embeddings"
      ]
    },
    {
      "cell_type": "markdown",
      "metadata": {
        "id": "cD64tcbcmfZr"
      },
      "source": [
        "#### Import spacy"
      ]
    },
    {
      "cell_type": "code",
      "metadata": {
        "id": "ktX1UK7B3b-9"
      },
      "source": [
        "import spacy\n",
        "\n",
        "nlp  = spacy.load('en_core_web_sm')"
      ],
      "execution_count": 14,
      "outputs": []
    },
    {
      "cell_type": "code",
      "metadata": {
        "id": "zJhLqe53KKYk",
        "colab": {
          "base_uri": "https://localhost:8080/"
        },
        "outputId": "6dca0ddf-7329-4f46-e567-796f8afdb43d"
      },
      "source": [
        "X_train"
      ],
      "execution_count": 15,
      "outputs": [
        {
          "output_type": "execute_result",
          "data": {
            "text/plain": [
              "534     campaign fundraiser tonight pres obama denounc...\n",
              "1135                               next day obama order u\n",
              "707     think top secret obama world war illuminati an...\n",
              "1051    shecallsmelarrythe new anti obama slur rwnj ec...\n",
              "389     american kid uk ohhh cool tea queen british ki...\n",
              "                              ...                        \n",
              "211     mean saving scotus tell world obama wrong aca ...\n",
              "502     romney gon na nominee not first choice either ...\n",
              "537     occupywallst whatsromneyhiding umm guarantee a...\n",
              "1220    obama campaign say romney make public year tax...\n",
              "175     en el backstage de los kca harry le pregunto m...\n",
              "Name: tweets, Length: 1091, dtype: object"
            ]
          },
          "metadata": {
            "tags": []
          },
          "execution_count": 15
        }
      ]
    },
    {
      "cell_type": "markdown",
      "metadata": {
        "id": "vkmHpuE0mhVZ"
      },
      "source": [
        "#### Get tokenized list of tweets in training set"
      ]
    },
    {
      "cell_type": "code",
      "metadata": {
        "id": "PF5RlTSpguSe"
      },
      "source": [
        "tweets=[word_tokenize(tweet) for tweet in X_train]"
      ],
      "execution_count": 16,
      "outputs": []
    },
    {
      "cell_type": "markdown",
      "metadata": {
        "id": "tTi6z75dmn5R"
      },
      "source": [
        "#### Import gensim and initialize dictionary on training set"
      ]
    },
    {
      "cell_type": "code",
      "metadata": {
        "id": "sBWyzKvtFB-4"
      },
      "source": [
        "from gensim.corpora import Dictionary\n",
        "from gensim.models.tfidfmodel import TfidfModel\n",
        "from gensim.matutils import sparse2full\n",
        "tweet_dict=Dictionary(tweets) \n",
        "tweet_dict.compactify() "
      ],
      "execution_count": 17,
      "outputs": []
    },
    {
      "cell_type": "markdown",
      "metadata": {
        "id": "-Y7LZfBRmtPR"
      },
      "source": [
        "#### Create a corpus using training Data and initialize a TF-IDF model on the corpus"
      ]
    },
    {
      "cell_type": "code",
      "metadata": {
        "id": "1PAxP7ADLsXC"
      },
      "source": [
        "corpus = [tweet_dict.doc2bow(tweet) for tweet in tweets]\n",
        "model_tfidf = TfidfModel(corpus, id2word=tweet_dict)"
      ],
      "execution_count": 18,
      "outputs": []
    },
    {
      "cell_type": "markdown",
      "metadata": {
        "id": "M4PCusrknQY7"
      },
      "source": [
        "#### Create bag of words model of training set and get TF-IDF values for the training data"
      ]
    },
    {
      "cell_type": "code",
      "metadata": {
        "id": "g1vkEjjunOG7"
      },
      "source": [
        "train_corpus=[tweet_dict.doc2bow(word_tokenize(tweet)) for tweet in X_train]\n",
        "train_tfidf  = model_tfidf[train_corpus]\n",
        "# Get TF-IDF vectors for training data\n",
        "train_vecs   = np.vstack([sparse2full(c, len(tweet_dict)) for c in train_tfidf])"
      ],
      "execution_count": 19,
      "outputs": []
    },
    {
      "cell_type": "markdown",
      "metadata": {
        "id": "bjfFH42PnyjY"
      },
      "source": [
        "#### Use spacy to get Glove embedding for each TF-IDF term"
      ]
    },
    {
      "cell_type": "code",
      "metadata": {
        "id": "HJc3nKezMgW-"
      },
      "source": [
        "tfidf_emb_tweet_vecs = np.vstack([nlp(tweet_dict[i]).vector for i in range(len(tweet_dict))])"
      ],
      "execution_count": 20,
      "outputs": []
    },
    {
      "cell_type": "markdown",
      "metadata": {
        "id": "ZGIZZymzn4-2"
      },
      "source": [
        "#### Get TF-IDF weighted glove vector for each document by matrix multiplication"
      ]
    },
    {
      "cell_type": "code",
      "metadata": {
        "id": "zVMshd4_Mnn4"
      },
      "source": [
        "train_emb = np.dot(train_vecs, tfidf_emb_tweet_vecs) "
      ],
      "execution_count": 21,
      "outputs": []
    },
    {
      "cell_type": "markdown",
      "metadata": {
        "id": "owzg0q88oFk-"
      },
      "source": [
        "#### Repeat Process for test data"
      ]
    },
    {
      "cell_type": "code",
      "metadata": {
        "id": "IOPuMnE5JUmF"
      },
      "source": [
        "test_corpus=[tweet_dict.doc2bow(word_tokenize(tweet)) for tweet in X_test]\n",
        "test_tfidf=model_tfidf[test_corpus]\n",
        "test_vecs=np.vstack([sparse2full(c,len(tweet_dict)) for c in test_tfidf])\n",
        "test_emb=np.dot(test_vecs,tfidf_emb_tweet_vecs)"
      ],
      "execution_count": 22,
      "outputs": []
    },
    {
      "cell_type": "markdown",
      "metadata": {
        "id": "ftlaKEG5oMIs"
      },
      "source": [
        "### Convert label data into categorical format"
      ]
    },
    {
      "cell_type": "code",
      "metadata": {
        "id": "pF82xO-cwh2C"
      },
      "source": [
        "from tensorflow.keras.utils import to_categorical\n",
        "y_train=to_categorical(y_train,3)\n",
        "y_test=to_categorical(y_test,3)"
      ],
      "execution_count": 23,
      "outputs": []
    },
    {
      "cell_type": "markdown",
      "metadata": {
        "id": "lTcoNGWmoRZh"
      },
      "source": [
        "### Create and fit model"
      ]
    },
    {
      "cell_type": "code",
      "metadata": {
        "id": "4fvckDxzwnBd"
      },
      "source": [
        "from tensorflow.keras.models import Sequential\n",
        "from tensorflow.keras.layers import Dense, Activation, Dropout"
      ],
      "execution_count": 24,
      "outputs": []
    },
    {
      "cell_type": "code",
      "metadata": {
        "id": "4qIdiAspwu29"
      },
      "source": [
        "model=Sequential()\n",
        "model.add(Dense(activation='relu',units=64))\n",
        "model.add(Dropout(0.2))\n",
        "model.add(Dense(activation='relu',units=32))\n",
        "model.add(Dense(activation='softmax',units=3))\n",
        "model.compile(optimizer='rmsprop',loss='categorical_crossentropy',metrics=['accuracy'])"
      ],
      "execution_count": 25,
      "outputs": []
    },
    {
      "cell_type": "code",
      "metadata": {
        "colab": {
          "base_uri": "https://localhost:8080/"
        },
        "id": "VbtREZJpw1fe",
        "outputId": "f769f0d2-7f2b-4005-a713-6a5b1e790eae"
      },
      "source": [
        "history=model.fit(x=train_emb,y=y_train,epochs=20, validation_data=(test_emb,y_test))"
      ],
      "execution_count": 26,
      "outputs": [
        {
          "output_type": "stream",
          "text": [
            "Epoch 1/20\n",
            "35/35 [==============================] - 1s 8ms/step - loss: 1.2395 - accuracy: 0.6013 - val_loss: 0.9131 - val_accuracy: 0.4725\n",
            "Epoch 2/20\n",
            "35/35 [==============================] - 0s 3ms/step - loss: 0.8946 - accuracy: 0.6315 - val_loss: 0.8226 - val_accuracy: 0.5934\n",
            "Epoch 3/20\n",
            "35/35 [==============================] - 0s 3ms/step - loss: 0.8170 - accuracy: 0.6489 - val_loss: 0.7823 - val_accuracy: 0.6593\n",
            "Epoch 4/20\n",
            "35/35 [==============================] - 0s 3ms/step - loss: 0.7804 - accuracy: 0.6856 - val_loss: 0.7942 - val_accuracy: 0.6520\n",
            "Epoch 5/20\n",
            "35/35 [==============================] - 0s 3ms/step - loss: 0.7519 - accuracy: 0.6948 - val_loss: 0.7478 - val_accuracy: 0.6667\n",
            "Epoch 6/20\n",
            "35/35 [==============================] - 0s 3ms/step - loss: 0.7075 - accuracy: 0.6984 - val_loss: 0.7399 - val_accuracy: 0.6740\n",
            "Epoch 7/20\n",
            "35/35 [==============================] - 0s 3ms/step - loss: 0.7028 - accuracy: 0.7195 - val_loss: 0.7399 - val_accuracy: 0.6886\n",
            "Epoch 8/20\n",
            "35/35 [==============================] - 0s 2ms/step - loss: 0.6769 - accuracy: 0.7168 - val_loss: 0.7204 - val_accuracy: 0.6337\n",
            "Epoch 9/20\n",
            "35/35 [==============================] - 0s 3ms/step - loss: 0.6659 - accuracy: 0.7168 - val_loss: 0.8621 - val_accuracy: 0.6484\n",
            "Epoch 10/20\n",
            "35/35 [==============================] - 0s 2ms/step - loss: 0.6391 - accuracy: 0.7388 - val_loss: 0.7290 - val_accuracy: 0.6740\n",
            "Epoch 11/20\n",
            "35/35 [==============================] - 0s 3ms/step - loss: 0.6499 - accuracy: 0.7296 - val_loss: 0.7865 - val_accuracy: 0.6740\n",
            "Epoch 12/20\n",
            "35/35 [==============================] - 0s 3ms/step - loss: 0.6078 - accuracy: 0.7635 - val_loss: 0.8726 - val_accuracy: 0.6484\n",
            "Epoch 13/20\n",
            "35/35 [==============================] - 0s 2ms/step - loss: 0.5967 - accuracy: 0.7571 - val_loss: 0.7228 - val_accuracy: 0.7070\n",
            "Epoch 14/20\n",
            "35/35 [==============================] - 0s 2ms/step - loss: 0.5857 - accuracy: 0.7672 - val_loss: 0.7108 - val_accuracy: 0.7179\n",
            "Epoch 15/20\n",
            "35/35 [==============================] - 0s 3ms/step - loss: 0.5677 - accuracy: 0.7681 - val_loss: 0.6828 - val_accuracy: 0.7399\n",
            "Epoch 16/20\n",
            "35/35 [==============================] - 0s 2ms/step - loss: 0.5760 - accuracy: 0.7589 - val_loss: 0.6778 - val_accuracy: 0.7546\n",
            "Epoch 17/20\n",
            "35/35 [==============================] - 0s 2ms/step - loss: 0.5433 - accuracy: 0.7809 - val_loss: 0.6623 - val_accuracy: 0.7253\n",
            "Epoch 18/20\n",
            "35/35 [==============================] - 0s 2ms/step - loss: 0.5400 - accuracy: 0.7883 - val_loss: 0.6547 - val_accuracy: 0.7619\n",
            "Epoch 19/20\n",
            "35/35 [==============================] - 0s 2ms/step - loss: 0.5296 - accuracy: 0.7754 - val_loss: 0.7751 - val_accuracy: 0.6960\n",
            "Epoch 20/20\n",
            "35/35 [==============================] - 0s 2ms/step - loss: 0.5056 - accuracy: 0.7883 - val_loss: 0.7753 - val_accuracy: 0.7326\n"
          ],
          "name": "stdout"
        }
      ]
    },
    {
      "cell_type": "markdown",
      "metadata": {
        "id": "VOwQb0mTqDiI"
      },
      "source": [
        "### Evaluating Model"
      ]
    },
    {
      "cell_type": "code",
      "metadata": {
        "id": "SIr_kviUUO6J"
      },
      "source": [
        "y_predictions=(model.predict(test_emb) > 0.5).astype(\"int32\")"
      ],
      "execution_count": 27,
      "outputs": []
    },
    {
      "cell_type": "code",
      "metadata": {
        "id": "Z-fKaQJ4UQGn"
      },
      "source": [
        "from sklearn.metrics import classification_report,confusion_matrix,accuracy_score"
      ],
      "execution_count": 28,
      "outputs": []
    },
    {
      "cell_type": "markdown",
      "metadata": {
        "id": "wZRoS-E9qGhW"
      },
      "source": [
        "#### Display classification report"
      ]
    },
    {
      "cell_type": "code",
      "metadata": {
        "id": "B9qIw8_QWDvu",
        "colab": {
          "base_uri": "https://localhost:8080/"
        },
        "outputId": "96ec608a-5b76-43e6-b502-7859015945ef"
      },
      "source": [
        "print(classification_report(y_test,y_predictions))"
      ],
      "execution_count": 29,
      "outputs": [
        {
          "output_type": "stream",
          "text": [
            "              precision    recall  f1-score   support\n",
            "\n",
            "           0       0.75      0.93      0.83       177\n",
            "           1       0.78      0.40      0.53        80\n",
            "           2       0.00      0.00      0.00        16\n",
            "\n",
            "   micro avg       0.76      0.72      0.74       273\n",
            "   macro avg       0.51      0.44      0.45       273\n",
            "weighted avg       0.72      0.72      0.70       273\n",
            " samples avg       0.72      0.72      0.72       273\n",
            "\n"
          ],
          "name": "stdout"
        }
      ]
    },
    {
      "cell_type": "markdown",
      "metadata": {
        "id": "UfJMJ_i-qN1g"
      },
      "source": [
        "#### Get accuracy score on test data"
      ]
    },
    {
      "cell_type": "code",
      "metadata": {
        "id": "hTJubNt_WE6O",
        "colab": {
          "base_uri": "https://localhost:8080/"
        },
        "outputId": "a0635a55-6390-44ae-ae35-987d50e7631b"
      },
      "source": [
        "print(accuracy_score(y_test,y_predictions))"
      ],
      "execution_count": 30,
      "outputs": [
        {
          "output_type": "stream",
          "text": [
            "0.7216117216117216\n"
          ],
          "name": "stdout"
        }
      ]
    },
    {
      "cell_type": "code",
      "metadata": {
        "id": "UBhWXQmpXimy",
        "colab": {
          "base_uri": "https://localhost:8080/"
        },
        "outputId": "519446de-573d-4133-fd0b-746db664eea7"
      },
      "source": [
        "confusion_matrix(y_test.argmax(axis=1),y_predictions.argmax(axis=1))"
      ],
      "execution_count": 31,
      "outputs": [
        {
          "output_type": "execute_result",
          "data": {
            "text/plain": [
              "array([[172,   5,   0],\n",
              "       [ 48,  32,   0],\n",
              "       [ 12,   4,   0]])"
            ]
          },
          "metadata": {
            "tags": []
          },
          "execution_count": 31
        }
      ]
    },
    {
      "cell_type": "markdown",
      "metadata": {
        "id": "kwxjvOGJqLRv"
      },
      "source": [
        "#### Plot losses"
      ]
    },
    {
      "cell_type": "code",
      "metadata": {
        "id": "QUU0hTgLXj7m"
      },
      "source": [
        "losses=pd.DataFrame(history.history)"
      ],
      "execution_count": 32,
      "outputs": []
    },
    {
      "cell_type": "code",
      "metadata": {
        "id": "M7VGrYAjXlUC",
        "colab": {
          "base_uri": "https://localhost:8080/",
          "height": 282
        },
        "outputId": "2432be4b-86bd-4248-a357-b69b3a3ca0b8"
      },
      "source": [
        "losses[['loss','val_loss']].plot()"
      ],
      "execution_count": 33,
      "outputs": [
        {
          "output_type": "execute_result",
          "data": {
            "text/plain": [
              "<matplotlib.axes._subplots.AxesSubplot at 0x7f8e13298890>"
            ]
          },
          "metadata": {
            "tags": []
          },
          "execution_count": 33
        },
        {
          "output_type": "display_data",
          "data": {
            "image/png": "[encoded data removed]",
            "text/plain": [
              "<Figure size 432x288 with 1 Axes>"
            ]
          },
          "metadata": {
            "tags": [],
            "needs_background": "light"
          }
        }
      ]
    },
    {
      "cell_type": "code",
      "metadata": {
        "colab": {
          "base_uri": "https://localhost:8080/",
          "height": 284
        },
        "id": "u-7sgXo6p6Iw",
        "outputId": "85d8fcf4-ada3-45d7-d28d-dca6dbab1713"
      },
      "source": [
        "losses[['accuracy','val_accuracy']].plot()"
      ],
      "execution_count": 34,
      "outputs": [
        {
          "output_type": "execute_result",
          "data": {
            "text/plain": [
              "<matplotlib.axes._subplots.AxesSubplot at 0x7f8e1208b410>"
            ]
          },
          "metadata": {
            "tags": []
          },
          "execution_count": 34
        },
        {
          "output_type": "display_data",
          "data": {
            "image/png": "[encoded data removed]",
            "text/plain": [
              "<Figure size 432x288 with 1 Axes>"
            ]
          },
          "metadata": {
            "tags": [],
            "needs_background": "light"
          }
        }
      ]
    }
  ]
}