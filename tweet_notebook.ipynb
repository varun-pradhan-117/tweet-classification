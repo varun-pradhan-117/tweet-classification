{
  "nbformat": 4,
  "nbformat_minor": 0,
  "metadata": {
    "language_info": {
      "codemirror_mode": {
        "name": "ipython",
        "version": 3
      },
      "file_extension": ".py",
      "mimetype": "text/x-python",
      "name": "python",
      "nbconvert_exporter": "python",
      "pygments_lexer": "ipython3",
      "version": "3.8.5"
    },
    "orig_nbformat": 2,
    "kernelspec": {
      "name": "python385jvsc74a57bd014523d1fea9f4e0c7f58fb726c15fbeefb0f5da4b7c94149544d1b99831e5a5d",
      "display_name": "Python 3.8.5 64-bit ('tf-gpu': conda)"
    },
    "colab": {
      "name": "tweet-notebook.ipynb",
      "provenance": [],
      "toc_visible": true
    }
  },
  "cells": [
    {
      "cell_type": "code",
      "metadata": {
        "id": "NK5IxwpaBhOV"
      },
      "source": [
        "import numpy as np\n",
        "import pandas as pd \n",
        "import tensorflow as tf\n",
        "from bs4 import BeautifulSoup\n",
        "import re\n",
        "import matplotlib.pyplot as plt\n",
        "import nltk"
      ],
      "execution_count": 1,
      "outputs": []
    },
    {
      "cell_type": "code",
      "metadata": {
        "id": "Z0_NpAmVBhOX"
      },
      "source": [
        "from nltk.corpus import stopwords\n",
        "from nltk.tokenize import word_tokenize\n",
        "from nltk.stem.porter import PorterStemmer\n",
        "from nltk.stem import WordNetLemmatizer"
      ],
      "execution_count": 2,
      "outputs": []
    },
    {
      "cell_type": "code",
      "metadata": {
        "colab": {
          "base_uri": "https://localhost:8080/"
        },
        "id": "DKo3Gn_XB_J_",
        "outputId": "a176ff26-6338-4d0a-a0af-7cf1d831a7e2"
      },
      "source": [
        "nltk.download('stopwords')\n",
        "nltk.download('punkt')\n",
        "nltk.download('wordnet')"
      ],
      "execution_count": 3,
      "outputs": [
        {
          "output_type": "stream",
          "name": "stderr",
          "text": [
            "[nltk_data] Downloading package stopwords to\n[nltk_data]     C:\\Users\\varun\\AppData\\Roaming\\nltk_data...\n[nltk_data]   Package stopwords is already up-to-date!\n[nltk_data] Downloading package punkt to\n[nltk_data]     C:\\Users\\varun\\AppData\\Roaming\\nltk_data...\n[nltk_data]   Package punkt is already up-to-date!\n[nltk_data] Downloading package wordnet to\n[nltk_data]     C:\\Users\\varun\\AppData\\Roaming\\nltk_data...\n[nltk_data]   Package wordnet is already up-to-date!\n"
          ]
        },
        {
          "output_type": "execute_result",
          "data": {
            "text/plain": [
              "True"
            ]
          },
          "metadata": {},
          "execution_count": 3
        }
      ]
    },
    {
      "cell_type": "markdown",
      "metadata": {
        "id": "5URitD3JBhOX"
      },
      "source": [
        "#### Load Dataset"
      ]
    },
    {
      "cell_type": "code",
      "metadata": {
        "id": "gGdrGu6NBhOY"
      },
      "source": [
        "data=pd.read_csv('datasets/tweets.csv')"
      ],
      "execution_count": 4,
      "outputs": []
    },
    {
      "cell_type": "markdown",
      "metadata": {
        "id": "-vompRlhBhOY"
      },
      "source": [
        "#### Check for null values"
      ]
    },
    {
      "cell_type": "code",
      "metadata": {
        "colab": {
          "base_uri": "https://localhost:8080/"
        },
        "id": "ZOTHAyK3BhOY",
        "outputId": "f5d7d589-6704-41f7-a527-6cc8fabf9fc3"
      },
      "source": [
        "data.isnull().sum()"
      ],
      "execution_count": 5,
      "outputs": [
        {
          "output_type": "execute_result",
          "data": {
            "text/plain": [
              "tweets    0\n",
              "labels    0\n",
              "dtype: int64"
            ]
          },
          "metadata": {},
          "execution_count": 5
        }
      ]
    },
    {
      "cell_type": "code",
      "metadata": {
        "id": "93mjiie7BhOZ"
      },
      "source": [
        "#get stopword list\n",
        "sw_list=stopwords.words('english')"
      ],
      "execution_count": 6,
      "outputs": []
    },
    {
      "cell_type": "markdown",
      "metadata": {
        "id": "cHB2mWBvBhOa"
      },
      "source": [
        "### Since it might affect final outcome, a few words are removed from stopwords list"
      ]
    },
    {
      "cell_type": "code",
      "metadata": {
        "id": "a7AU5YqfBhOa"
      },
      "source": [
        "print(f\"Not----->{'not' in sw_list}\\nNo------>{'no' in sw_list}\\nAgainst->{'against' in sw_list}\")"
      ],
      "execution_count": 7,
      "outputs": [
        {
          "output_type": "stream",
          "name": "stdout",
          "text": [
            "Not----->True\nNo------>True\nAgainst->True\n"
          ]
        }
      ]
    },
    {
      "cell_type": "code",
      "metadata": {
        "colab": {
          "base_uri": "https://localhost:8080/",
          "height": 35
        },
        "id": "R-L02jcIBhOa",
        "outputId": "99c6f212-3b43-4b69-ae6b-852eb1e865a3"
      },
      "source": [
        "sw_list.remove('not')\n",
        "sw_list.remove('no')\n",
        "sw_list.remove('against')"
      ],
      "execution_count": 8,
      "outputs": []
    },
    {
      "cell_type": "code",
      "metadata": {
        "id": "9nbnl_DzBhOb"
      },
      "source": [
        "print(f\"Not----->{'not' in sw_list}\\nNo------>{'no' in sw_list}\\nAgainst->{'against' in sw_list}\")"
      ],
      "execution_count": 9,
      "outputs": [
        {
          "output_type": "stream",
          "name": "stdout",
          "text": [
            "Not----->False\nNo------>False\nAgainst->False\n"
          ]
        }
      ]
    },
    {
      "cell_type": "code",
      "metadata": {
        "id": "bpBR0V45BhOb"
      },
      "source": [
        "#Initialize lemmatizer\n",
        "lemmatizer=WordNetLemmatizer()"
      ],
      "execution_count": 10,
      "outputs": []
    },
    {
      "cell_type": "markdown",
      "metadata": {
        "id": "geYOIxdjBhOb"
      },
      "source": [
        "### Function to clean tweets"
      ]
    },
    {
      "cell_type": "code",
      "metadata": {
        "id": "0IvaD7EaBhOb"
      },
      "source": [
        "def clean_tweets(tweet):\n",
        "    #remove RT(retweet tag)\n",
        "    tweet=re.sub(r\"RT @\",\"@\",tweet)\n",
        "    #remove pings\n",
        "    tweet = re.sub(r\"@[A-Za-z0-9]+\", ' ', tweet)\n",
        "    #remove URLs\n",
        "    tweet = re.sub(r\"https?://[A-Za-z0-9./]+\", ' ', tweet)\n",
        "    #remove special characters\n",
        "    tweet = re.sub(r\"[^a-zA-Z]\", ' ', tweet)\n",
        "    #convert to lower case\n",
        "    tweet=tweet.lower()\n",
        "    #remove extra white spaces\n",
        "    tweet = re.sub(r\" +\",' ', tweet)\n",
        "    #tokenize tweet for removing stopwords and lemmatization\n",
        "    tokenized_tweet=word_tokenize(tweet)\n",
        "    #lemmatization of tweet and removing stopwords\n",
        "    lemmatized_tweet=[lemmatizer.lemmatize(word) for \n",
        "                      word in tokenized_tweet if not word in sw_list]\n",
        "    lemmatized_tweet=' '.join(lemmatized_tweet)\n",
        "    #remove extra white spaces\n",
        "    tweet = re.sub(r\" +\", ' ', tweet)\n",
        "    return lemmatized_tweet.strip()\n"
      ],
      "execution_count": 11,
      "outputs": []
    },
    {
      "cell_type": "code",
      "metadata": {
        "id": "5OWJvZpPBhOc"
      },
      "source": [
        "data['tweets']=[clean_tweets(tweet) for tweet in data['tweets']]"
      ],
      "execution_count": 12,
      "outputs": []
    },
    {
      "cell_type": "markdown",
      "metadata": {
        "id": "8hhW40-kBhOc"
      },
      "source": [
        "### Checking and Discarding tweets left empty after cleaning (tweets that contained only retweets, pings and URLs)"
      ]
    },
    {
      "cell_type": "code",
      "metadata": {
        "colab": {
          "base_uri": "https://localhost:8080/",
          "height": 265
        },
        "id": "vi9jrvf9BhOc",
        "outputId": "f7bfa2e7-8eec-417d-9246-5e3655a09368"
      },
      "source": [
        "data[data['tweets']=='']"
      ],
      "execution_count": 13,
      "outputs": [
        {
          "output_type": "execute_result",
          "data": {
            "text/plain": [
              "     tweets  labels\n",
              "446               0\n",
              "905               0\n",
              "1067              0\n",
              "1082              0\n",
              "1093              0\n",
              "1101              0\n",
              "1290              0"
            ],
            "text/html": "<div>\n<style scoped>\n    .dataframe tbody tr th:only-of-type {\n        vertical-align: middle;\n    }\n\n    .dataframe tbody tr th {\n        vertical-align: top;\n    }\n\n    .dataframe thead th {\n        text-align: right;\n    }\n</style>\n<table border=\"1\" class=\"dataframe\">\n  <thead>\n    <tr style=\"text-align: right;\">\n      <th></th>\n      <th>tweets</th>\n      <th>labels</th>\n    </tr>\n  </thead>\n  <tbody>\n    <tr>\n      <th>446</th>\n      <td></td>\n      <td>0</td>\n    </tr>\n    <tr>\n      <th>905</th>\n      <td></td>\n      <td>0</td>\n    </tr>\n    <tr>\n      <th>1067</th>\n      <td></td>\n      <td>0</td>\n    </tr>\n    <tr>\n      <th>1082</th>\n      <td></td>\n      <td>0</td>\n    </tr>\n    <tr>\n      <th>1093</th>\n      <td></td>\n      <td>0</td>\n    </tr>\n    <tr>\n      <th>1101</th>\n      <td></td>\n      <td>0</td>\n    </tr>\n    <tr>\n      <th>1290</th>\n      <td></td>\n      <td>0</td>\n    </tr>\n  </tbody>\n</table>\n</div>"
          },
          "metadata": {},
          "execution_count": 13
        }
      ]
    },
    {
      "cell_type": "code",
      "metadata": {
        "colab": {
          "base_uri": "https://localhost:8080/"
        },
        "id": "ymI_xAJ6BhOc",
        "outputId": "fda9dbcd-d801-4fb0-a5c0-5228bb1b84e8"
      },
      "source": [
        "len(data)"
      ],
      "execution_count": 14,
      "outputs": [
        {
          "output_type": "execute_result",
          "data": {
            "text/plain": [
              "1364"
            ]
          },
          "metadata": {},
          "execution_count": 14
        }
      ]
    },
    {
      "cell_type": "code",
      "metadata": {
        "colab": {
          "base_uri": "https://localhost:8080/"
        },
        "id": "xdEattCWBhOc",
        "outputId": "35a3ce10-f915-48ee-b624-ee1fbc81d8b7"
      },
      "source": [
        "data.eq('').sum()"
      ],
      "execution_count": 15,
      "outputs": [
        {
          "output_type": "execute_result",
          "data": {
            "text/plain": [
              "tweets    7\n",
              "labels    0\n",
              "dtype: int64"
            ]
          },
          "metadata": {},
          "execution_count": 15
        }
      ]
    },
    {
      "cell_type": "code",
      "metadata": {
        "colab": {
          "base_uri": "https://localhost:8080/"
        },
        "id": "sPQoTb1zBhOd",
        "outputId": "b0aebbc6-388e-43a1-b08e-81791c5798ac"
      },
      "source": [
        "data.replace(\"\",np.nan,inplace=True)\n",
        "data.dropna(subset=['tweets'],inplace=True)\n",
        "data.eq('').sum()"
      ],
      "execution_count": 16,
      "outputs": [
        {
          "output_type": "execute_result",
          "data": {
            "text/plain": [
              "tweets    0\n",
              "labels    0\n",
              "dtype: int64"
            ]
          },
          "metadata": {},
          "execution_count": 16
        }
      ]
    },
    {
      "cell_type": "code",
      "metadata": {
        "colab": {
          "base_uri": "https://localhost:8080/"
        },
        "id": "c-KsN727BhOd",
        "outputId": "49c36b16-f26c-4651-b4fe-3d6a15bf9a50"
      },
      "source": [
        "len(data)"
      ],
      "execution_count": 17,
      "outputs": [
        {
          "output_type": "execute_result",
          "data": {
            "text/plain": [
              "1357"
            ]
          },
          "metadata": {},
          "execution_count": 17
        }
      ]
    },
    {
      "cell_type": "code",
      "metadata": {
        "id": "yd_WNBtHBhOe"
      },
      "source": [
        "from sklearn.model_selection import train_test_split\n",
        "X=data['tweets']\n",
        "y=data['labels']\n",
        "X_train,X_test,y_train,y_test=train_test_split(X,y,test_size=0.2,random_state=7)"
      ],
      "execution_count": 18,
      "outputs": []
    },
    {
      "cell_type": "code",
      "metadata": {
        "id": "Vu84zjDSBhOe"
      },
      "source": [
        "lengths=pd.DataFrame(len(tweet.split(' ')) for tweet in X_train)"
      ],
      "execution_count": 19,
      "outputs": []
    },
    {
      "cell_type": "code",
      "metadata": {
        "id": "p49iDhsdBhOe"
      },
      "source": [
        "test_length=pd.DataFrame(len(tweet.split(' ')) for tweet in X_test)"
      ],
      "execution_count": 20,
      "outputs": []
    },
    {
      "cell_type": "code",
      "metadata": {
        "id": "q31K1kh6BhOf"
      },
      "source": [
        "max_len=max(len(tweet.split(' ')) for tweet in X_train)"
      ],
      "execution_count": 21,
      "outputs": []
    },
    {
      "cell_type": "markdown",
      "metadata": {
        "id": "yvPzwfFqFAoE"
      },
      "source": [
        "### Get word count of tweet with most words"
      ]
    },
    {
      "cell_type": "code",
      "metadata": {
        "colab": {
          "base_uri": "https://localhost:8080/"
        },
        "id": "LlVJ34CBBhOf",
        "outputId": "9c8ae28a-ec83-483f-f96d-59ed25cf7134"
      },
      "source": [
        "max_len"
      ],
      "execution_count": 22,
      "outputs": [
        {
          "output_type": "execute_result",
          "data": {
            "text/plain": [
              "24"
            ]
          },
          "metadata": {},
          "execution_count": 22
        }
      ]
    },
    {
      "cell_type": "markdown",
      "metadata": {
        "id": "16ZNYXLOFaJx"
      },
      "source": [
        "### TF-IDF Vectorization"
      ]
    },
    {
      "cell_type": "code",
      "metadata": {
        "id": "urY-qGxjBhOf"
      },
      "source": [
        "from sklearn.feature_extraction.text import TfidfVectorizer"
      ],
      "execution_count": 23,
      "outputs": []
    },
    {
      "cell_type": "code",
      "metadata": {
        "id": "vAOCMlqZBhOf"
      },
      "source": [
        "tfidf_vect=TfidfVectorizer()\n",
        "X_train_tfidf=tfidf_vect.fit_transform(X_train).toarray()\n",
        "X_test_tfidf=tfidf_vect.transform(X_test).toarray()\n",
        "X_train_tfidf=pd.DataFrame(X_train_tfidf)\n",
        "X_test_tfidf=pd.DataFrame(X_test_tfidf)"
      ],
      "execution_count": 24,
      "outputs": []
    },
    {
      "cell_type": "code",
      "metadata": {
        "colab": {
          "base_uri": "https://localhost:8080/",
          "height": 1000
        },
        "id": "_p5o42uVBhOi",
        "outputId": "36765e59-8c11-44ab-a15e-79be381253e0"
      },
      "source": [
        "train_data=pd.concat((X_train,y_train),axis=1,ignore_index=True)\n",
        "train_data.columns=['tweets','labels']\n",
        "train_data.reset_index(inplace=True,drop=True)\n",
        "train_data=pd.concat((train_data,X_train_tfidf),axis=1)\n",
        "train_data"
      ],
      "execution_count": 25,
      "outputs": [
        {
          "output_type": "execute_result",
          "data": {
            "text/plain": [
              "                                                 tweets  labels    0    1  \\\n",
              "0     obama admin cry tax increase applaud china low...       0  0.0  0.0   \n",
              "1     barack obama longboard package core truck mm b...       0  0.0  0.0   \n",
              "2     edshow whenever obama tell truth gop boo hoo h...       0  0.0  0.0   \n",
              "3     many foreign leader obama promised post electi...       0  0.0  0.0   \n",
              "4     obama signaled u would accept iranian civilian...       1  0.0  0.0   \n",
              "...                                                 ...     ...  ...  ...   \n",
              "1080  mean saving scotus tell world obama wrong aca ...       0  0.0  0.0   \n",
              "1081                        obama sharpens kansa vision       0  0.0  0.0   \n",
              "1082                  genius man sing else really obama       1  0.0  0.0   \n",
              "1083  mitt romney obama spent much time harvard also...       0  0.0  0.0   \n",
              "1084  en el backstage de los kca harry le pregunto m...       0  0.0  0.0   \n",
              "\n",
              "        2    3    4         5         6    7  ...  2611  2612  2613  2614  \\\n",
              "0     0.0  0.0  0.0  0.000000  0.000000  0.0  ...   0.0   0.0   0.0   0.0   \n",
              "1     0.0  0.0  0.0  0.000000  0.000000  0.0  ...   0.0   0.0   0.0   0.0   \n",
              "2     0.0  0.0  0.0  0.000000  0.000000  0.0  ...   0.0   0.0   0.0   0.0   \n",
              "3     0.0  0.0  0.0  0.000000  0.000000  0.0  ...   0.0   0.0   0.0   0.0   \n",
              "4     0.0  0.0  0.0  0.000000  0.259903  0.0  ...   0.0   0.0   0.0   0.0   \n",
              "...   ...  ...  ...       ...       ...  ...  ...   ...   ...   ...   ...   \n",
              "1080  0.0  0.0  0.0  0.334194  0.000000  0.0  ...   0.0   0.0   0.0   0.0   \n",
              "1081  0.0  0.0  0.0  0.000000  0.000000  0.0  ...   0.0   0.0   0.0   0.0   \n",
              "1082  0.0  0.0  0.0  0.000000  0.000000  0.0  ...   0.0   0.0   0.0   0.0   \n",
              "1083  0.0  0.0  0.0  0.000000  0.000000  0.0  ...   0.0   0.0   0.0   0.0   \n",
              "1084  0.0  0.0  0.0  0.000000  0.000000  0.0  ...   0.0   0.0   0.0   0.0   \n",
              "\n",
              "      2615  2616  2617  2618  2619  2620  \n",
              "0      0.0   0.0   0.0   0.0   0.0   0.0  \n",
              "1      0.0   0.0   0.0   0.0   0.0   0.0  \n",
              "2      0.0   0.0   0.0   0.0   0.0   0.0  \n",
              "3      0.0   0.0   0.0   0.0   0.0   0.0  \n",
              "4      0.0   0.0   0.0   0.0   0.0   0.0  \n",
              "...    ...   ...   ...   ...   ...   ...  \n",
              "1080   0.0   0.0   0.0   0.0   0.0   0.0  \n",
              "1081   0.0   0.0   0.0   0.0   0.0   0.0  \n",
              "1082   0.0   0.0   0.0   0.0   0.0   0.0  \n",
              "1083   0.0   0.0   0.0   0.0   0.0   0.0  \n",
              "1084   0.0   0.0   0.0   0.0   0.0   0.0  \n",
              "\n",
              "[1085 rows x 2623 columns]"
            ],
            "text/html": "<div>\n<style scoped>\n    .dataframe tbody tr th:only-of-type {\n        vertical-align: middle;\n    }\n\n    .dataframe tbody tr th {\n        vertical-align: top;\n    }\n\n    .dataframe thead th {\n        text-align: right;\n    }\n</style>\n<table border=\"1\" class=\"dataframe\">\n  <thead>\n    <tr style=\"text-align: right;\">\n      <th></th>\n      <th>tweets</th>\n      <th>labels</th>\n      <th>0</th>\n      <th>1</th>\n      <th>2</th>\n      <th>3</th>\n      <th>4</th>\n      <th>5</th>\n      <th>6</th>\n      <th>7</th>\n      <th>...</th>\n      <th>2611</th>\n      <th>2612</th>\n      <th>2613</th>\n      <th>2614</th>\n      <th>2615</th>\n      <th>2616</th>\n      <th>2617</th>\n      <th>2618</th>\n      <th>2619</th>\n      <th>2620</th>\n    </tr>\n  </thead>\n  <tbody>\n    <tr>\n      <th>0</th>\n      <td>obama admin cry tax increase applaud china low...</td>\n      <td>0</td>\n      <td>0.0</td>\n      <td>0.0</td>\n      <td>0.0</td>\n      <td>0.0</td>\n      <td>0.0</td>\n      <td>0.000000</td>\n      <td>0.000000</td>\n      <td>0.0</td>\n      <td>...</td>\n      <td>0.0</td>\n      <td>0.0</td>\n      <td>0.0</td>\n      <td>0.0</td>\n      <td>0.0</td>\n      <td>0.0</td>\n      <td>0.0</td>\n      <td>0.0</td>\n      <td>0.0</td>\n      <td>0.0</td>\n    </tr>\n    <tr>\n      <th>1</th>\n      <td>barack obama longboard package core truck mm b...</td>\n      <td>0</td>\n      <td>0.0</td>\n      <td>0.0</td>\n      <td>0.0</td>\n      <td>0.0</td>\n      <td>0.0</td>\n      <td>0.000000</td>\n      <td>0.000000</td>\n      <td>0.0</td>\n      <td>...</td>\n      <td>0.0</td>\n      <td>0.0</td>\n      <td>0.0</td>\n      <td>0.0</td>\n      <td>0.0</td>\n      <td>0.0</td>\n      <td>0.0</td>\n      <td>0.0</td>\n      <td>0.0</td>\n      <td>0.0</td>\n    </tr>\n    <tr>\n      <th>2</th>\n      <td>edshow whenever obama tell truth gop boo hoo h...</td>\n      <td>0</td>\n      <td>0.0</td>\n      <td>0.0</td>\n      <td>0.0</td>\n      <td>0.0</td>\n      <td>0.0</td>\n      <td>0.000000</td>\n      <td>0.000000</td>\n      <td>0.0</td>\n      <td>...</td>\n      <td>0.0</td>\n      <td>0.0</td>\n      <td>0.0</td>\n      <td>0.0</td>\n      <td>0.0</td>\n      <td>0.0</td>\n      <td>0.0</td>\n      <td>0.0</td>\n      <td>0.0</td>\n      <td>0.0</td>\n    </tr>\n    <tr>\n      <th>3</th>\n      <td>many foreign leader obama promised post electi...</td>\n      <td>0</td>\n      <td>0.0</td>\n      <td>0.0</td>\n      <td>0.0</td>\n      <td>0.0</td>\n      <td>0.0</td>\n      <td>0.000000</td>\n      <td>0.000000</td>\n      <td>0.0</td>\n      <td>...</td>\n      <td>0.0</td>\n      <td>0.0</td>\n      <td>0.0</td>\n      <td>0.0</td>\n      <td>0.0</td>\n      <td>0.0</td>\n      <td>0.0</td>\n      <td>0.0</td>\n      <td>0.0</td>\n      <td>0.0</td>\n    </tr>\n    <tr>\n      <th>4</th>\n      <td>obama signaled u would accept iranian civilian...</td>\n      <td>1</td>\n      <td>0.0</td>\n      <td>0.0</td>\n      <td>0.0</td>\n      <td>0.0</td>\n      <td>0.0</td>\n      <td>0.000000</td>\n      <td>0.259903</td>\n      <td>0.0</td>\n      <td>...</td>\n      <td>0.0</td>\n      <td>0.0</td>\n      <td>0.0</td>\n      <td>0.0</td>\n      <td>0.0</td>\n      <td>0.0</td>\n      <td>0.0</td>\n      <td>0.0</td>\n      <td>0.0</td>\n      <td>0.0</td>\n    </tr>\n    <tr>\n      <th>...</th>\n      <td>...</td>\n      <td>...</td>\n      <td>...</td>\n      <td>...</td>\n      <td>...</td>\n      <td>...</td>\n      <td>...</td>\n      <td>...</td>\n      <td>...</td>\n      <td>...</td>\n      <td>...</td>\n      <td>...</td>\n      <td>...</td>\n      <td>...</td>\n      <td>...</td>\n      <td>...</td>\n      <td>...</td>\n      <td>...</td>\n      <td>...</td>\n      <td>...</td>\n      <td>...</td>\n    </tr>\n    <tr>\n      <th>1080</th>\n      <td>mean saving scotus tell world obama wrong aca ...</td>\n      <td>0</td>\n      <td>0.0</td>\n      <td>0.0</td>\n      <td>0.0</td>\n      <td>0.0</td>\n      <td>0.0</td>\n      <td>0.334194</td>\n      <td>0.000000</td>\n      <td>0.0</td>\n      <td>...</td>\n      <td>0.0</td>\n      <td>0.0</td>\n      <td>0.0</td>\n      <td>0.0</td>\n      <td>0.0</td>\n      <td>0.0</td>\n      <td>0.0</td>\n      <td>0.0</td>\n      <td>0.0</td>\n      <td>0.0</td>\n    </tr>\n    <tr>\n      <th>1081</th>\n      <td>obama sharpens kansa vision</td>\n      <td>0</td>\n      <td>0.0</td>\n      <td>0.0</td>\n      <td>0.0</td>\n      <td>0.0</td>\n      <td>0.0</td>\n      <td>0.000000</td>\n      <td>0.000000</td>\n      <td>0.0</td>\n      <td>...</td>\n      <td>0.0</td>\n      <td>0.0</td>\n      <td>0.0</td>\n      <td>0.0</td>\n      <td>0.0</td>\n      <td>0.0</td>\n      <td>0.0</td>\n      <td>0.0</td>\n      <td>0.0</td>\n      <td>0.0</td>\n    </tr>\n    <tr>\n      <th>1082</th>\n      <td>genius man sing else really obama</td>\n      <td>1</td>\n      <td>0.0</td>\n      <td>0.0</td>\n      <td>0.0</td>\n      <td>0.0</td>\n      <td>0.0</td>\n      <td>0.000000</td>\n      <td>0.000000</td>\n      <td>0.0</td>\n      <td>...</td>\n      <td>0.0</td>\n      <td>0.0</td>\n      <td>0.0</td>\n      <td>0.0</td>\n      <td>0.0</td>\n      <td>0.0</td>\n      <td>0.0</td>\n      <td>0.0</td>\n      <td>0.0</td>\n      <td>0.0</td>\n    </tr>\n    <tr>\n      <th>1083</th>\n      <td>mitt romney obama spent much time harvard also...</td>\n      <td>0</td>\n      <td>0.0</td>\n      <td>0.0</td>\n      <td>0.0</td>\n      <td>0.0</td>\n      <td>0.0</td>\n      <td>0.000000</td>\n      <td>0.000000</td>\n      <td>0.0</td>\n      <td>...</td>\n      <td>0.0</td>\n      <td>0.0</td>\n      <td>0.0</td>\n      <td>0.0</td>\n      <td>0.0</td>\n      <td>0.0</td>\n      <td>0.0</td>\n      <td>0.0</td>\n      <td>0.0</td>\n      <td>0.0</td>\n    </tr>\n    <tr>\n      <th>1084</th>\n      <td>en el backstage de los kca harry le pregunto m...</td>\n      <td>0</td>\n      <td>0.0</td>\n      <td>0.0</td>\n      <td>0.0</td>\n      <td>0.0</td>\n      <td>0.0</td>\n      <td>0.000000</td>\n      <td>0.000000</td>\n      <td>0.0</td>\n      <td>...</td>\n      <td>0.0</td>\n      <td>0.0</td>\n      <td>0.0</td>\n      <td>0.0</td>\n      <td>0.0</td>\n      <td>0.0</td>\n      <td>0.0</td>\n      <td>0.0</td>\n      <td>0.0</td>\n      <td>0.0</td>\n    </tr>\n  </tbody>\n</table>\n<p>1085 rows × 2623 columns</p>\n</div>"
          },
          "metadata": {},
          "execution_count": 25
        }
      ]
    },
    {
      "cell_type": "code",
      "metadata": {
        "colab": {
          "base_uri": "https://localhost:8080/",
          "height": 823
        },
        "id": "i86yi-r0BhOi",
        "outputId": "0ea4b766-349a-446f-91f0-9a040d102737"
      },
      "source": [
        "test_data=pd.concat((X_test,y_test),axis=1,ignore_index=True)\n",
        "test_data.columns=['tweets','labels']\n",
        "test_data.reset_index(inplace=True,drop=True)\n",
        "test_data=pd.concat((test_data,X_test_tfidf),axis=1)\n",
        "test_data"
      ],
      "execution_count": 26,
      "outputs": [
        {
          "output_type": "execute_result",
          "data": {
            "text/plain": [
              "                                                tweets  labels    0    1    2  \\\n",
              "0    harry style describe michelle obama como una m...       0  0.0  0.0  0.0   \n",
              "1    amp si khady president obama got elected nyrel...       0  0.0  0.0  0.0   \n",
              "2    obama black american really need time whitey f...       0  0.0  0.0  0.0   \n",
              "3    whatsromneyhiding throw baseball like man not ...       0  0.0  0.0  0.0   \n",
              "4    realclearpolitics obama organizational advanta...       2  0.0  0.0  0.0   \n",
              "..                                                 ...     ...  ...  ...  ...   \n",
              "267      romney attack obama barnstorming pennsylvania       0  0.0  0.0  0.0   \n",
              "268  obama thug bully not sure call rush limbaugh bill       0  0.0  0.0  0.0   \n",
              "269  michelle barack obama become like celebrity ta...       0  0.0  0.0  0.0   \n",
              "270  whatsromneyhiding nothing compared mt proof ob...       1  0.0  0.0  0.0   \n",
              "271  examiner editorial obama budget not ryan antit...       0  0.0  0.0  0.0   \n",
              "\n",
              "       3    4    5    6    7  ...  2611  2612  2613  2614  2615  2616  2617  \\\n",
              "0    0.0  0.0  0.0  0.0  0.0  ...   0.0   0.0   0.0   0.0   0.0   0.0   0.0   \n",
              "1    0.0  0.0  0.0  0.0  0.0  ...   0.0   0.0   0.0   0.0   0.0   0.0   0.0   \n",
              "2    0.0  0.0  0.0  0.0  0.0  ...   0.0   0.0   0.0   0.0   0.0   0.0   0.0   \n",
              "3    0.0  0.0  0.0  0.0  0.0  ...   0.0   0.0   0.0   0.0   0.0   0.0   0.0   \n",
              "4    0.0  0.0  0.0  0.0  0.0  ...   0.0   0.0   0.0   0.0   0.0   0.0   0.0   \n",
              "..   ...  ...  ...  ...  ...  ...   ...   ...   ...   ...   ...   ...   ...   \n",
              "267  0.0  0.0  0.0  0.0  0.0  ...   0.0   0.0   0.0   0.0   0.0   0.0   0.0   \n",
              "268  0.0  0.0  0.0  0.0  0.0  ...   0.0   0.0   0.0   0.0   0.0   0.0   0.0   \n",
              "269  0.0  0.0  0.0  0.0  0.0  ...   0.0   0.0   0.0   0.0   0.0   0.0   0.0   \n",
              "270  0.0  0.0  0.0  0.0  0.0  ...   0.0   0.0   0.0   0.0   0.0   0.0   0.0   \n",
              "271  0.0  0.0  0.0  0.0  0.0  ...   0.0   0.0   0.0   0.0   0.0   0.0   0.0   \n",
              "\n",
              "     2618  2619  2620  \n",
              "0     0.0   0.0   0.0  \n",
              "1     0.0   0.0   0.0  \n",
              "2     0.0   0.0   0.0  \n",
              "3     0.0   0.0   0.0  \n",
              "4     0.0   0.0   0.0  \n",
              "..    ...   ...   ...  \n",
              "267   0.0   0.0   0.0  \n",
              "268   0.0   0.0   0.0  \n",
              "269   0.0   0.0   0.0  \n",
              "270   0.0   0.0   0.0  \n",
              "271   0.0   0.0   0.0  \n",
              "\n",
              "[272 rows x 2623 columns]"
            ],
            "text/html": "<div>\n<style scoped>\n    .dataframe tbody tr th:only-of-type {\n        vertical-align: middle;\n    }\n\n    .dataframe tbody tr th {\n        vertical-align: top;\n    }\n\n    .dataframe thead th {\n        text-align: right;\n    }\n</style>\n<table border=\"1\" class=\"dataframe\">\n  <thead>\n    <tr style=\"text-align: right;\">\n      <th></th>\n      <th>tweets</th>\n      <th>labels</th>\n      <th>0</th>\n      <th>1</th>\n      <th>2</th>\n      <th>3</th>\n      <th>4</th>\n      <th>5</th>\n      <th>6</th>\n      <th>7</th>\n      <th>...</th>\n      <th>2611</th>\n      <th>2612</th>\n      <th>2613</th>\n      <th>2614</th>\n      <th>2615</th>\n      <th>2616</th>\n      <th>2617</th>\n      <th>2618</th>\n      <th>2619</th>\n      <th>2620</th>\n    </tr>\n  </thead>\n  <tbody>\n    <tr>\n      <th>0</th>\n      <td>harry style describe michelle obama como una m...</td>\n      <td>0</td>\n      <td>0.0</td>\n      <td>0.0</td>\n      <td>0.0</td>\n      <td>0.0</td>\n      <td>0.0</td>\n      <td>0.0</td>\n      <td>0.0</td>\n      <td>0.0</td>\n      <td>...</td>\n      <td>0.0</td>\n      <td>0.0</td>\n      <td>0.0</td>\n      <td>0.0</td>\n      <td>0.0</td>\n      <td>0.0</td>\n      <td>0.0</td>\n      <td>0.0</td>\n      <td>0.0</td>\n      <td>0.0</td>\n    </tr>\n    <tr>\n      <th>1</th>\n      <td>amp si khady president obama got elected nyrel...</td>\n      <td>0</td>\n      <td>0.0</td>\n      <td>0.0</td>\n      <td>0.0</td>\n      <td>0.0</td>\n      <td>0.0</td>\n      <td>0.0</td>\n      <td>0.0</td>\n      <td>0.0</td>\n      <td>...</td>\n      <td>0.0</td>\n      <td>0.0</td>\n      <td>0.0</td>\n      <td>0.0</td>\n      <td>0.0</td>\n      <td>0.0</td>\n      <td>0.0</td>\n      <td>0.0</td>\n      <td>0.0</td>\n      <td>0.0</td>\n    </tr>\n    <tr>\n      <th>2</th>\n      <td>obama black american really need time whitey f...</td>\n      <td>0</td>\n      <td>0.0</td>\n      <td>0.0</td>\n      <td>0.0</td>\n      <td>0.0</td>\n      <td>0.0</td>\n      <td>0.0</td>\n      <td>0.0</td>\n      <td>0.0</td>\n      <td>...</td>\n      <td>0.0</td>\n      <td>0.0</td>\n      <td>0.0</td>\n      <td>0.0</td>\n      <td>0.0</td>\n      <td>0.0</td>\n      <td>0.0</td>\n      <td>0.0</td>\n      <td>0.0</td>\n      <td>0.0</td>\n    </tr>\n    <tr>\n      <th>3</th>\n      <td>whatsromneyhiding throw baseball like man not ...</td>\n      <td>0</td>\n      <td>0.0</td>\n      <td>0.0</td>\n      <td>0.0</td>\n      <td>0.0</td>\n      <td>0.0</td>\n      <td>0.0</td>\n      <td>0.0</td>\n      <td>0.0</td>\n      <td>...</td>\n      <td>0.0</td>\n      <td>0.0</td>\n      <td>0.0</td>\n      <td>0.0</td>\n      <td>0.0</td>\n      <td>0.0</td>\n      <td>0.0</td>\n      <td>0.0</td>\n      <td>0.0</td>\n      <td>0.0</td>\n    </tr>\n    <tr>\n      <th>4</th>\n      <td>realclearpolitics obama organizational advanta...</td>\n      <td>2</td>\n      <td>0.0</td>\n      <td>0.0</td>\n      <td>0.0</td>\n      <td>0.0</td>\n      <td>0.0</td>\n      <td>0.0</td>\n      <td>0.0</td>\n      <td>0.0</td>\n      <td>...</td>\n      <td>0.0</td>\n      <td>0.0</td>\n      <td>0.0</td>\n      <td>0.0</td>\n      <td>0.0</td>\n      <td>0.0</td>\n      <td>0.0</td>\n      <td>0.0</td>\n      <td>0.0</td>\n      <td>0.0</td>\n    </tr>\n    <tr>\n      <th>...</th>\n      <td>...</td>\n      <td>...</td>\n      <td>...</td>\n      <td>...</td>\n      <td>...</td>\n      <td>...</td>\n      <td>...</td>\n      <td>...</td>\n      <td>...</td>\n      <td>...</td>\n      <td>...</td>\n      <td>...</td>\n      <td>...</td>\n      <td>...</td>\n      <td>...</td>\n      <td>...</td>\n      <td>...</td>\n      <td>...</td>\n      <td>...</td>\n      <td>...</td>\n      <td>...</td>\n    </tr>\n    <tr>\n      <th>267</th>\n      <td>romney attack obama barnstorming pennsylvania</td>\n      <td>0</td>\n      <td>0.0</td>\n      <td>0.0</td>\n      <td>0.0</td>\n      <td>0.0</td>\n      <td>0.0</td>\n      <td>0.0</td>\n      <td>0.0</td>\n      <td>0.0</td>\n      <td>...</td>\n      <td>0.0</td>\n      <td>0.0</td>\n      <td>0.0</td>\n      <td>0.0</td>\n      <td>0.0</td>\n      <td>0.0</td>\n      <td>0.0</td>\n      <td>0.0</td>\n      <td>0.0</td>\n      <td>0.0</td>\n    </tr>\n    <tr>\n      <th>268</th>\n      <td>obama thug bully not sure call rush limbaugh bill</td>\n      <td>0</td>\n      <td>0.0</td>\n      <td>0.0</td>\n      <td>0.0</td>\n      <td>0.0</td>\n      <td>0.0</td>\n      <td>0.0</td>\n      <td>0.0</td>\n      <td>0.0</td>\n      <td>...</td>\n      <td>0.0</td>\n      <td>0.0</td>\n      <td>0.0</td>\n      <td>0.0</td>\n      <td>0.0</td>\n      <td>0.0</td>\n      <td>0.0</td>\n      <td>0.0</td>\n      <td>0.0</td>\n      <td>0.0</td>\n    </tr>\n    <tr>\n      <th>269</th>\n      <td>michelle barack obama become like celebrity ta...</td>\n      <td>0</td>\n      <td>0.0</td>\n      <td>0.0</td>\n      <td>0.0</td>\n      <td>0.0</td>\n      <td>0.0</td>\n      <td>0.0</td>\n      <td>0.0</td>\n      <td>0.0</td>\n      <td>...</td>\n      <td>0.0</td>\n      <td>0.0</td>\n      <td>0.0</td>\n      <td>0.0</td>\n      <td>0.0</td>\n      <td>0.0</td>\n      <td>0.0</td>\n      <td>0.0</td>\n      <td>0.0</td>\n      <td>0.0</td>\n    </tr>\n    <tr>\n      <th>270</th>\n      <td>whatsromneyhiding nothing compared mt proof ob...</td>\n      <td>1</td>\n      <td>0.0</td>\n      <td>0.0</td>\n      <td>0.0</td>\n      <td>0.0</td>\n      <td>0.0</td>\n      <td>0.0</td>\n      <td>0.0</td>\n      <td>0.0</td>\n      <td>...</td>\n      <td>0.0</td>\n      <td>0.0</td>\n      <td>0.0</td>\n      <td>0.0</td>\n      <td>0.0</td>\n      <td>0.0</td>\n      <td>0.0</td>\n      <td>0.0</td>\n      <td>0.0</td>\n      <td>0.0</td>\n    </tr>\n    <tr>\n      <th>271</th>\n      <td>examiner editorial obama budget not ryan antit...</td>\n      <td>0</td>\n      <td>0.0</td>\n      <td>0.0</td>\n      <td>0.0</td>\n      <td>0.0</td>\n      <td>0.0</td>\n      <td>0.0</td>\n      <td>0.0</td>\n      <td>0.0</td>\n      <td>...</td>\n      <td>0.0</td>\n      <td>0.0</td>\n      <td>0.0</td>\n      <td>0.0</td>\n      <td>0.0</td>\n      <td>0.0</td>\n      <td>0.0</td>\n      <td>0.0</td>\n      <td>0.0</td>\n      <td>0.0</td>\n    </tr>\n  </tbody>\n</table>\n<p>272 rows × 2623 columns</p>\n</div>"
          },
          "metadata": {},
          "execution_count": 26
        }
      ]
    },
    {
      "cell_type": "code",
      "metadata": {
        "colab": {
          "base_uri": "https://localhost:8080/"
        },
        "id": "UJfTUBN-BhOi",
        "outputId": "3a8c8f4e-09be-4bda-f364-d7e6fdcd4248"
      },
      "source": [
        "max_len=X_train_tfidf.shape[1]\n",
        "max_len"
      ],
      "execution_count": 27,
      "outputs": [
        {
          "output_type": "execute_result",
          "data": {
            "text/plain": [
              "2621"
            ]
          },
          "metadata": {},
          "execution_count": 27
        }
      ]
    },
    {
      "cell_type": "code",
      "metadata": {
        "colab": {
          "base_uri": "https://localhost:8080/"
        },
        "id": "Id1MsTNMBhOi",
        "outputId": "90a63346-8db5-472a-ee97-c000c827a294"
      },
      "source": [
        "y_train.unique()"
      ],
      "execution_count": 28,
      "outputs": [
        {
          "output_type": "execute_result",
          "data": {
            "text/plain": [
              "array([0, 1, 2], dtype=int64)"
            ]
          },
          "metadata": {},
          "execution_count": 28
        }
      ]
    }
  ]
}